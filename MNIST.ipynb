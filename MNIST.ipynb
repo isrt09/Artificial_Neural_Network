{
  "nbformat": 4,
  "nbformat_minor": 0,
  "metadata": {
    "colab": {
      "name": "MNIST.ipynb",
      "provenance": [],
      "collapsed_sections": []
    },
    "kernelspec": {
      "name": "python3",
      "display_name": "Python 3"
    },
    "language_info": {
      "name": "python"
    }
  },
  "cells": [
    {
      "cell_type": "markdown",
      "metadata": {
        "id": "ekvRPxwMqbL3"
      },
      "source": [
        "**Artificial Neural Network (ANN)**"
      ]
    },
    {
      "cell_type": "code",
      "metadata": {
        "id": "ThhUGliUD9il"
      },
      "source": [
        "# x = [2,3]\n",
        "# y = 1\n",
        "import sklearn"
      ],
      "execution_count": null,
      "outputs": []
    },
    {
      "cell_type": "code",
      "metadata": {
        "id": "fNcvvwrZFy20"
      },
      "source": [
        "from sklearn.neural_network import MLPClassifier"
      ],
      "execution_count": null,
      "outputs": []
    },
    {
      "cell_type": "code",
      "metadata": {
        "id": "4knQ10rSF8c1"
      },
      "source": [
        "x = [[2,3]]\n",
        "y = [1]"
      ],
      "execution_count": null,
      "outputs": []
    },
    {
      "cell_type": "code",
      "metadata": {
        "id": "Zq5LRH6aGHTl"
      },
      "source": [
        "#import warnings\n",
        "#warnings.filterwarnings('ignore')\n",
        "\n",
        "mlp = MLPClassifier(hidden_layer_sizes=(2), activation='logistic', max_iter=1000)\n",
        "mlp.fit(x,y)"
      ],
      "execution_count": null,
      "outputs": []
    },
    {
      "cell_type": "code",
      "metadata": {
        "id": "UHS755f8QCJk"
      },
      "source": [
        "# Multilayer Perceptron \n",
        "from sklearn.neural_network import MLPClassifier"
      ],
      "execution_count": null,
      "outputs": []
    },
    {
      "cell_type": "code",
      "metadata": {
        "id": "YRoyPgzFGzGn"
      },
      "source": [
        "X = [[1,0,1]]\n",
        "Y = [[0,1]]"
      ],
      "execution_count": null,
      "outputs": []
    },
    {
      "cell_type": "code",
      "metadata": {
        "id": "ze-yJT9_QZ0g"
      },
      "source": [
        "mlp = MLPClassifier(hidden_layer_sizes=(5,2), activation='relu', max_iter=2000, verbose=True)\n",
        "mlp.fit(X,Y)"
      ],
      "execution_count": null,
      "outputs": []
    },
    {
      "cell_type": "markdown",
      "metadata": {
        "id": "pLaItZV_cFKz"
      },
      "source": [
        "**Handwritten Digits Recognition with MNIST Dataset using ANN**"
      ]
    },
    {
      "cell_type": "code",
      "metadata": {
        "id": "KTUNmOHAQ8Fk"
      },
      "source": [
        "# Load Library\n",
        "from sklearn.neural_network import MLPClassifier\n",
        "from sklearn import datasets\n",
        "import numpy as np\n",
        "import matplotlib.pyplot as plt"
      ],
      "execution_count": 28,
      "outputs": []
    },
    {
      "cell_type": "code",
      "metadata": {
        "id": "I3d67IZbcz3h"
      },
      "source": [
        "digits = datasets.load_digits()"
      ],
      "execution_count": 29,
      "outputs": []
    },
    {
      "cell_type": "code",
      "metadata": {
        "colab": {
          "base_uri": "https://localhost:8080/"
        },
        "id": "2qs4mvd9c-pX",
        "outputId": "0670e027-efcc-46ff-986a-e0d2e9bd80f4"
      },
      "source": [
        "digits.images.shape"
      ],
      "execution_count": 30,
      "outputs": [
        {
          "output_type": "execute_result",
          "data": {
            "text/plain": [
              "(1797, 8, 8)"
            ]
          },
          "metadata": {
            "tags": []
          },
          "execution_count": 30
        }
      ]
    },
    {
      "cell_type": "code",
      "metadata": {
        "colab": {
          "base_uri": "https://localhost:8080/"
        },
        "id": "zb8hLO6EdVuy",
        "outputId": "616c910d-5d18-4ea4-f10e-4848f15f9b08"
      },
      "source": [
        "print(digits.images[0])"
      ],
      "execution_count": 33,
      "outputs": [
        {
          "output_type": "stream",
          "text": [
            "[[ 0.  0.  5. 13.  9.  1.  0.  0.]\n",
            " [ 0.  0. 13. 15. 10. 15.  5.  0.]\n",
            " [ 0.  3. 15.  2.  0. 11.  8.  0.]\n",
            " [ 0.  4. 12.  0.  0.  8.  8.  0.]\n",
            " [ 0.  5.  8.  0.  0.  9.  8.  0.]\n",
            " [ 0.  4. 11.  0.  1. 12.  7.  0.]\n",
            " [ 0.  2. 14.  5. 10. 12.  0.  0.]\n",
            " [ 0.  0.  6. 13. 10.  0.  0.  0.]]\n"
          ],
          "name": "stdout"
        }
      ]
    },
    {
      "cell_type": "code",
      "metadata": {
        "colab": {
          "base_uri": "https://localhost:8080/",
          "height": 265
        },
        "id": "qkfiOoZ2d3-m",
        "outputId": "c9d9c37f-ba67-434f-b1e1-a6c20e54a100"
      },
      "source": [
        "plt.imshow(digits.images[0],cmap='binary')\n",
        "plt.show()"
      ],
      "execution_count": 39,
      "outputs": [
        {
          "output_type": "display_data",
          "data": {
            "image/png": "[encoded data removed]",
            "text/plain": [
              "<Figure size 432x288 with 1 Axes>"
            ]
          },
          "metadata": {
            "tags": [],
            "needs_background": "light"
          }
        }
      ]
    },
    {
      "cell_type": "code",
      "metadata": {
        "colab": {
          "base_uri": "https://localhost:8080/",
          "height": 265
        },
        "id": "JQUunQVQhQyN",
        "outputId": "78de730d-5a51-4db2-af86-17e8d995e96d"
      },
      "source": [
        "plt.imshow(digits.images[1796],cmap='binary')\n",
        "plt.show()"
      ],
      "execution_count": 40,
      "outputs": [
        {
          "output_type": "display_data",
          "data": {
            "image/png": "[encoded data removed]",
            "text/plain": [
              "<Figure size 432x288 with 1 Axes>"
            ]
          },
          "metadata": {
            "tags": [],
            "needs_background": "light"
          }
        }
      ]
    },
    {
      "cell_type": "code",
      "metadata": {
        "colab": {
          "base_uri": "https://localhost:8080/"
        },
        "id": "67u7b6sEgQwh",
        "outputId": "b3c11394-1f56-4e7b-b392-e0d9db7cd367"
      },
      "source": [
        "print(digits.target)"
      ],
      "execution_count": 41,
      "outputs": [
        {
          "output_type": "stream",
          "text": [
            "[0 1 2 ... 8 9 8]\n"
          ],
          "name": "stdout"
        }
      ]
    },
    {
      "cell_type": "code",
      "metadata": {
        "colab": {
          "base_uri": "https://localhost:8080/",
          "height": 265
        },
        "id": "DwBUuvgZh1Y-",
        "outputId": "50d4a749-f84e-4c37-ff99-f4f00242aec8"
      },
      "source": [
        "plt.imshow(digits.images[1795],cmap='binary')\n",
        "plt.show()"
      ],
      "execution_count": 42,
      "outputs": [
        {
          "output_type": "display_data",
          "data": {
            "image/png": "[encoded data removed]",
            "text/plain": [
              "<Figure size 432x288 with 1 Axes>"
            ]
          },
          "metadata": {
            "tags": [],
            "needs_background": "light"
          }
        }
      ]
    },
    {
      "cell_type": "code",
      "metadata": {
        "colab": {
          "base_uri": "https://localhost:8080/"
        },
        "id": "LUE21KI_iBGk",
        "outputId": "31d310f5-d7a6-43c8-f103-d77dc90ea3cd"
      },
      "source": [
        "digits.target.shape"
      ],
      "execution_count": 43,
      "outputs": [
        {
          "output_type": "execute_result",
          "data": {
            "text/plain": [
              "(1797,)"
            ]
          },
          "metadata": {
            "tags": []
          },
          "execution_count": 43
        }
      ]
    },
    {
      "cell_type": "code",
      "metadata": {
        "id": "cMO01zfFiKwq"
      },
      "source": [
        "y = digits.target\n",
        "x = digits.images"
      ],
      "execution_count": 44,
      "outputs": []
    },
    {
      "cell_type": "code",
      "metadata": {
        "colab": {
          "base_uri": "https://localhost:8080/"
        },
        "id": "PIat8j67i6sb",
        "outputId": "ec2405ba-47ce-48fc-d036-f793230b5b74"
      },
      "source": [
        "x.shape"
      ],
      "execution_count": 47,
      "outputs": [
        {
          "output_type": "execute_result",
          "data": {
            "text/plain": [
              "(1797, 8, 8)"
            ]
          },
          "metadata": {
            "tags": []
          },
          "execution_count": 47
        }
      ]
    },
    {
      "cell_type": "code",
      "metadata": {
        "id": "JqkrpK0jjX_P"
      },
      "source": [
        "x = digits.images.reshape(len(digits.images),-1)"
      ],
      "execution_count": 51,
      "outputs": []
    },
    {
      "cell_type": "code",
      "metadata": {
        "colab": {
          "base_uri": "https://localhost:8080/"
        },
        "id": "lr50nEVLjdR1",
        "outputId": "93f04970-90c9-4eba-df90-7311f2b3ad46"
      },
      "source": [
        "x.shape"
      ],
      "execution_count": 52,
      "outputs": [
        {
          "output_type": "execute_result",
          "data": {
            "text/plain": [
              "(1797, 64)"
            ]
          },
          "metadata": {
            "tags": []
          },
          "execution_count": 52
        }
      ]
    },
    {
      "cell_type": "code",
      "metadata": {
        "colab": {
          "base_uri": "https://localhost:8080/"
        },
        "id": "1bQP1AEbkEAz",
        "outputId": "aa320466-34ed-40fc-c83e-0237f72e85cf"
      },
      "source": [
        "y.shape"
      ],
      "execution_count": 53,
      "outputs": [
        {
          "output_type": "execute_result",
          "data": {
            "text/plain": [
              "(1797,)"
            ]
          },
          "metadata": {
            "tags": []
          },
          "execution_count": 53
        }
      ]
    },
    {
      "cell_type": "code",
      "metadata": {
        "id": "36xpnl2OkPR-"
      },
      "source": [
        "X_train = x[:1200]\n",
        "X_test = x [1200:]\n",
        "\n",
        "y_train = y[:1200]\n",
        "y_test  = y[1200:]"
      ],
      "execution_count": 55,
      "outputs": []
    },
    {
      "cell_type": "code",
      "metadata": {
        "colab": {
          "base_uri": "https://localhost:8080/"
        },
        "id": "_GY8lhQ5kkj0",
        "outputId": "c6183188-b092-4c62-efda-9c91991140f0"
      },
      "source": [
        "X_train.shape"
      ],
      "execution_count": 56,
      "outputs": [
        {
          "output_type": "execute_result",
          "data": {
            "text/plain": [
              "(1200, 64)"
            ]
          },
          "metadata": {
            "tags": []
          },
          "execution_count": 56
        }
      ]
    },
    {
      "cell_type": "code",
      "metadata": {
        "colab": {
          "base_uri": "https://localhost:8080/"
        },
        "id": "LdcXKqnYk0_J",
        "outputId": "9f777fa0-4b6b-4907-e455-5bafc71e714b"
      },
      "source": [
        "X_test.shape"
      ],
      "execution_count": 59,
      "outputs": [
        {
          "output_type": "execute_result",
          "data": {
            "text/plain": [
              "(597, 64)"
            ]
          },
          "metadata": {
            "tags": []
          },
          "execution_count": 59
        }
      ]
    },
    {
      "cell_type": "code",
      "metadata": {
        "colab": {
          "base_uri": "https://localhost:8080/"
        },
        "id": "SYVxSI7vk4Aq",
        "outputId": "581e7657-27be-44cd-b7d9-3fabb00c2e19"
      },
      "source": [
        "y_train.shape"
      ],
      "execution_count": 60,
      "outputs": [
        {
          "output_type": "execute_result",
          "data": {
            "text/plain": [
              "(1200,)"
            ]
          },
          "metadata": {
            "tags": []
          },
          "execution_count": 60
        }
      ]
    },
    {
      "cell_type": "code",
      "metadata": {
        "colab": {
          "base_uri": "https://localhost:8080/"
        },
        "id": "Ni4BgATFlEdn",
        "outputId": "f365d332-0147-443b-a8aa-08c45ef16c69"
      },
      "source": [
        "y_test.shape"
      ],
      "execution_count": 61,
      "outputs": [
        {
          "output_type": "execute_result",
          "data": {
            "text/plain": [
              "(597,)"
            ]
          },
          "metadata": {
            "tags": []
          },
          "execution_count": 61
        }
      ]
    },
    {
      "cell_type": "code",
      "metadata": {
        "colab": {
          "base_uri": "https://localhost:8080/"
        },
        "id": "9enIBi1VlGi2",
        "outputId": "0d755e4d-4404-4319-a4b7-8304b197f711"
      },
      "source": [
        "mlp = MLPClassifier(hidden_layer_sizes=(15), activation='logistic', max_iter=1000, verbose=True)\n",
        "mlp.fit(X_train, y_train)"
      ],
      "execution_count": 110,
      "outputs": [
        {
          "output_type": "stream",
          "text": [
            "Iteration 1, loss = 2.39142827\n",
            "Iteration 2, loss = 2.32013339\n",
            "Iteration 3, loss = 2.27109236\n",
            "Iteration 4, loss = 2.23389640\n",
            "Iteration 5, loss = 2.19936056\n",
            "Iteration 6, loss = 2.16064738\n",
            "Iteration 7, loss = 2.11702779\n",
            "Iteration 8, loss = 2.07781518\n",
            "Iteration 9, loss = 2.03944771\n",
            "Iteration 10, loss = 2.00293461\n",
            "Iteration 11, loss = 1.96926754\n",
            "Iteration 12, loss = 1.93660367\n",
            "Iteration 13, loss = 1.90308178\n",
            "Iteration 14, loss = 1.86759079\n",
            "Iteration 15, loss = 1.83460601\n",
            "Iteration 16, loss = 1.80373801\n",
            "Iteration 17, loss = 1.77445627\n",
            "Iteration 18, loss = 1.74617210\n",
            "Iteration 19, loss = 1.71890531\n",
            "Iteration 20, loss = 1.69231372\n",
            "Iteration 21, loss = 1.66620383\n",
            "Iteration 22, loss = 1.64065462\n",
            "Iteration 23, loss = 1.61497826\n",
            "Iteration 24, loss = 1.59070515\n",
            "Iteration 25, loss = 1.56605604\n",
            "Iteration 26, loss = 1.54164621\n",
            "Iteration 27, loss = 1.51857309\n",
            "Iteration 28, loss = 1.49472870\n",
            "Iteration 29, loss = 1.47196525\n",
            "Iteration 30, loss = 1.44878807\n",
            "Iteration 31, loss = 1.42661377\n",
            "Iteration 32, loss = 1.40440986\n",
            "Iteration 33, loss = 1.38268814\n",
            "Iteration 34, loss = 1.36119125\n",
            "Iteration 35, loss = 1.33949412\n",
            "Iteration 36, loss = 1.31855523\n",
            "Iteration 37, loss = 1.29787986\n",
            "Iteration 38, loss = 1.27714810\n",
            "Iteration 39, loss = 1.25745072\n",
            "Iteration 40, loss = 1.23752226\n",
            "Iteration 41, loss = 1.21763286\n",
            "Iteration 42, loss = 1.19858813\n",
            "Iteration 43, loss = 1.17915798\n",
            "Iteration 44, loss = 1.16042585\n",
            "Iteration 45, loss = 1.14180857\n",
            "Iteration 46, loss = 1.12383628\n",
            "Iteration 47, loss = 1.10542248\n",
            "Iteration 48, loss = 1.08775676\n",
            "Iteration 49, loss = 1.06984347\n",
            "Iteration 50, loss = 1.05234046\n",
            "Iteration 51, loss = 1.03577428\n",
            "Iteration 52, loss = 1.01879097\n",
            "Iteration 53, loss = 1.00227292\n",
            "Iteration 54, loss = 0.98580734\n",
            "Iteration 55, loss = 0.97052706\n",
            "Iteration 56, loss = 0.95432863\n",
            "Iteration 57, loss = 0.93955579\n",
            "Iteration 58, loss = 0.92465761\n",
            "Iteration 59, loss = 0.90939977\n",
            "Iteration 60, loss = 0.89518617\n",
            "Iteration 61, loss = 0.88102051\n",
            "Iteration 62, loss = 0.86704361\n",
            "Iteration 63, loss = 0.85326088\n",
            "Iteration 64, loss = 0.84002440\n",
            "Iteration 65, loss = 0.82671640\n",
            "Iteration 66, loss = 0.81397208\n",
            "Iteration 67, loss = 0.80071269\n",
            "Iteration 68, loss = 0.78822014\n",
            "Iteration 69, loss = 0.77529435\n",
            "Iteration 70, loss = 0.76322305\n",
            "Iteration 71, loss = 0.75112347\n",
            "Iteration 72, loss = 0.73916240\n",
            "Iteration 73, loss = 0.72732301\n",
            "Iteration 74, loss = 0.71618652\n",
            "Iteration 75, loss = 0.70457858\n",
            "Iteration 76, loss = 0.69343308\n",
            "Iteration 77, loss = 0.68265621\n",
            "Iteration 78, loss = 0.67170329\n",
            "Iteration 79, loss = 0.66145658\n",
            "Iteration 80, loss = 0.65104107\n",
            "Iteration 81, loss = 0.64084967\n",
            "Iteration 82, loss = 0.63032450\n",
            "Iteration 83, loss = 0.61842609\n",
            "Iteration 84, loss = 0.60473564\n",
            "Iteration 85, loss = 0.59168840\n",
            "Iteration 86, loss = 0.57859987\n",
            "Iteration 87, loss = 0.56553486\n",
            "Iteration 88, loss = 0.55365653\n",
            "Iteration 89, loss = 0.54214920\n",
            "Iteration 90, loss = 0.53138609\n",
            "Iteration 91, loss = 0.52058073\n",
            "Iteration 92, loss = 0.51128246\n",
            "Iteration 93, loss = 0.50155570\n",
            "Iteration 94, loss = 0.49271286\n",
            "Iteration 95, loss = 0.48386945\n",
            "Iteration 96, loss = 0.47601423\n",
            "Iteration 97, loss = 0.46769914\n",
            "Iteration 98, loss = 0.46043329\n",
            "Iteration 99, loss = 0.45293683\n",
            "Iteration 100, loss = 0.44554665\n",
            "Iteration 101, loss = 0.43861239\n",
            "Iteration 102, loss = 0.43146517\n",
            "Iteration 103, loss = 0.42490265\n",
            "Iteration 104, loss = 0.41814799\n",
            "Iteration 105, loss = 0.41162714\n",
            "Iteration 106, loss = 0.40536924\n",
            "Iteration 107, loss = 0.39976701\n",
            "Iteration 108, loss = 0.39371010\n",
            "Iteration 109, loss = 0.38782816\n",
            "Iteration 110, loss = 0.38243617\n",
            "Iteration 111, loss = 0.37659788\n",
            "Iteration 112, loss = 0.37146772\n",
            "Iteration 113, loss = 0.36635851\n",
            "Iteration 114, loss = 0.36125769\n",
            "Iteration 115, loss = 0.35645859\n",
            "Iteration 116, loss = 0.35147502\n",
            "Iteration 117, loss = 0.34679473\n",
            "Iteration 118, loss = 0.34194069\n",
            "Iteration 119, loss = 0.33735744\n",
            "Iteration 120, loss = 0.33362123\n",
            "Iteration 121, loss = 0.32886078\n",
            "Iteration 122, loss = 0.32479682\n",
            "Iteration 123, loss = 0.32095443\n",
            "Iteration 124, loss = 0.31651591\n",
            "Iteration 125, loss = 0.31271061\n",
            "Iteration 126, loss = 0.30846125\n",
            "Iteration 127, loss = 0.30477420\n",
            "Iteration 128, loss = 0.30094060\n",
            "Iteration 129, loss = 0.29744899\n",
            "Iteration 130, loss = 0.29405143\n",
            "Iteration 131, loss = 0.29064242\n",
            "Iteration 132, loss = 0.28723654\n",
            "Iteration 133, loss = 0.28386883\n",
            "Iteration 134, loss = 0.28048017\n",
            "Iteration 135, loss = 0.27713587\n",
            "Iteration 136, loss = 0.27391994\n",
            "Iteration 137, loss = 0.27056542\n",
            "Iteration 138, loss = 0.26766202\n",
            "Iteration 139, loss = 0.26469279\n",
            "Iteration 140, loss = 0.26181126\n",
            "Iteration 141, loss = 0.25881063\n",
            "Iteration 142, loss = 0.25612438\n",
            "Iteration 143, loss = 0.25336734\n",
            "Iteration 144, loss = 0.25057002\n",
            "Iteration 145, loss = 0.24781079\n",
            "Iteration 146, loss = 0.24535896\n",
            "Iteration 147, loss = 0.24279769\n",
            "Iteration 148, loss = 0.24016110\n",
            "Iteration 149, loss = 0.23766682\n",
            "Iteration 150, loss = 0.23540619\n",
            "Iteration 151, loss = 0.23294287\n",
            "Iteration 152, loss = 0.23064293\n",
            "Iteration 153, loss = 0.22817224\n",
            "Iteration 154, loss = 0.22599193\n",
            "Iteration 155, loss = 0.22368341\n",
            "Iteration 156, loss = 0.22144995\n",
            "Iteration 157, loss = 0.21934587\n",
            "Iteration 158, loss = 0.21724837\n",
            "Iteration 159, loss = 0.21502076\n",
            "Iteration 160, loss = 0.21304191\n",
            "Iteration 161, loss = 0.21097138\n",
            "Iteration 162, loss = 0.20902924\n",
            "Iteration 163, loss = 0.20691219\n",
            "Iteration 164, loss = 0.20510063\n",
            "Iteration 165, loss = 0.20304181\n",
            "Iteration 166, loss = 0.20148911\n",
            "Iteration 167, loss = 0.19951309\n",
            "Iteration 168, loss = 0.19767445\n",
            "Iteration 169, loss = 0.19583442\n",
            "Iteration 170, loss = 0.19396635\n",
            "Iteration 171, loss = 0.19219492\n",
            "Iteration 172, loss = 0.19040485\n",
            "Iteration 173, loss = 0.18929408\n",
            "Iteration 174, loss = 0.18708562\n",
            "Iteration 175, loss = 0.18546724\n",
            "Iteration 176, loss = 0.18391115\n",
            "Iteration 177, loss = 0.18240703\n",
            "Iteration 178, loss = 0.18055868\n",
            "Iteration 179, loss = 0.17917327\n",
            "Iteration 180, loss = 0.17764103\n",
            "Iteration 181, loss = 0.17605820\n",
            "Iteration 182, loss = 0.17448889\n",
            "Iteration 183, loss = 0.17301865\n",
            "Iteration 184, loss = 0.17161772\n",
            "Iteration 185, loss = 0.17010613\n",
            "Iteration 186, loss = 0.16876188\n",
            "Iteration 187, loss = 0.16726866\n",
            "Iteration 188, loss = 0.16601309\n",
            "Iteration 189, loss = 0.16474655\n",
            "Iteration 190, loss = 0.16317547\n",
            "Iteration 191, loss = 0.16222368\n",
            "Iteration 192, loss = 0.16072223\n",
            "Iteration 193, loss = 0.15942124\n",
            "Iteration 194, loss = 0.15803716\n",
            "Iteration 195, loss = 0.15671139\n",
            "Iteration 196, loss = 0.15575251\n",
            "Iteration 197, loss = 0.15428266\n",
            "Iteration 198, loss = 0.15325505\n",
            "Iteration 199, loss = 0.15180266\n",
            "Iteration 200, loss = 0.15086033\n",
            "Iteration 201, loss = 0.14949538\n",
            "Iteration 202, loss = 0.14853928\n",
            "Iteration 203, loss = 0.14723672\n",
            "Iteration 204, loss = 0.14618839\n",
            "Iteration 205, loss = 0.14496773\n",
            "Iteration 206, loss = 0.14388279\n",
            "Iteration 207, loss = 0.14290090\n",
            "Iteration 208, loss = 0.14170260\n",
            "Iteration 209, loss = 0.14084776\n",
            "Iteration 210, loss = 0.13954230\n",
            "Iteration 211, loss = 0.13856161\n",
            "Iteration 212, loss = 0.13756247\n",
            "Iteration 213, loss = 0.13657190\n",
            "Iteration 214, loss = 0.13556437\n",
            "Iteration 215, loss = 0.13455185\n",
            "Iteration 216, loss = 0.13371143\n",
            "Iteration 217, loss = 0.13253855\n",
            "Iteration 218, loss = 0.13185491\n",
            "Iteration 219, loss = 0.13085178\n",
            "Iteration 220, loss = 0.12988445\n",
            "Iteration 221, loss = 0.12883498\n",
            "Iteration 222, loss = 0.12787670\n",
            "Iteration 223, loss = 0.12706667\n",
            "Iteration 224, loss = 0.12614688\n",
            "Iteration 225, loss = 0.12513229\n",
            "Iteration 226, loss = 0.12439091\n",
            "Iteration 227, loss = 0.12349997\n",
            "Iteration 228, loss = 0.12270856\n",
            "Iteration 229, loss = 0.12171437\n",
            "Iteration 230, loss = 0.12095030\n",
            "Iteration 231, loss = 0.12023077\n",
            "Iteration 232, loss = 0.11921502\n",
            "Iteration 233, loss = 0.11844064\n",
            "Iteration 234, loss = 0.11775316\n",
            "Iteration 235, loss = 0.11690840\n",
            "Iteration 236, loss = 0.11600688\n",
            "Iteration 237, loss = 0.11538960\n",
            "Iteration 238, loss = 0.11437505\n",
            "Iteration 239, loss = 0.11363050\n",
            "Iteration 240, loss = 0.11284900\n",
            "Iteration 241, loss = 0.11231146\n",
            "Iteration 242, loss = 0.11130223\n",
            "Iteration 243, loss = 0.11069271\n",
            "Iteration 244, loss = 0.10991682\n",
            "Iteration 245, loss = 0.10914037\n",
            "Iteration 246, loss = 0.10851521\n",
            "Iteration 247, loss = 0.10783093\n",
            "Iteration 248, loss = 0.10689458\n",
            "Iteration 249, loss = 0.10642458\n",
            "Iteration 250, loss = 0.10575397\n",
            "Iteration 251, loss = 0.10498313\n",
            "Iteration 252, loss = 0.10421442\n",
            "Iteration 253, loss = 0.10347552\n",
            "Iteration 254, loss = 0.10293678\n",
            "Iteration 255, loss = 0.10217964\n",
            "Iteration 256, loss = 0.10139421\n",
            "Iteration 257, loss = 0.10084222\n",
            "Iteration 258, loss = 0.10011689\n",
            "Iteration 259, loss = 0.09955325\n",
            "Iteration 260, loss = 0.09885580\n",
            "Iteration 261, loss = 0.09833614\n",
            "Iteration 262, loss = 0.09768566\n",
            "Iteration 263, loss = 0.09694824\n",
            "Iteration 264, loss = 0.09637770\n",
            "Iteration 265, loss = 0.09580498\n",
            "Iteration 266, loss = 0.09512478\n",
            "Iteration 267, loss = 0.09446906\n",
            "Iteration 268, loss = 0.09417752\n",
            "Iteration 269, loss = 0.09336596\n",
            "Iteration 270, loss = 0.09278722\n",
            "Iteration 271, loss = 0.09217820\n",
            "Iteration 272, loss = 0.09186371\n",
            "Iteration 273, loss = 0.09119682\n",
            "Iteration 274, loss = 0.09060452\n",
            "Iteration 275, loss = 0.08995909\n",
            "Iteration 276, loss = 0.08943696\n",
            "Iteration 277, loss = 0.08886532\n",
            "Iteration 278, loss = 0.08824048\n",
            "Iteration 279, loss = 0.08772756\n",
            "Iteration 280, loss = 0.08720265\n",
            "Iteration 281, loss = 0.08663486\n",
            "Iteration 282, loss = 0.08616391\n",
            "Iteration 283, loss = 0.08565233\n",
            "Iteration 284, loss = 0.08521810\n",
            "Iteration 285, loss = 0.08475551\n",
            "Iteration 286, loss = 0.08412242\n",
            "Iteration 287, loss = 0.08375701\n",
            "Iteration 288, loss = 0.08310229\n",
            "Iteration 289, loss = 0.08258968\n",
            "Iteration 290, loss = 0.08217071\n",
            "Iteration 291, loss = 0.08188979\n",
            "Iteration 292, loss = 0.08122584\n",
            "Iteration 293, loss = 0.08075671\n",
            "Iteration 294, loss = 0.08023823\n",
            "Iteration 295, loss = 0.07973683\n",
            "Iteration 296, loss = 0.07928481\n",
            "Iteration 297, loss = 0.07884077\n",
            "Iteration 298, loss = 0.07835929\n",
            "Iteration 299, loss = 0.07799287\n",
            "Iteration 300, loss = 0.07744497\n",
            "Iteration 301, loss = 0.07701984\n",
            "Iteration 302, loss = 0.07650294\n",
            "Iteration 303, loss = 0.07625219\n",
            "Iteration 304, loss = 0.07574875\n",
            "Iteration 305, loss = 0.07532558\n",
            "Iteration 306, loss = 0.07483693\n",
            "Iteration 307, loss = 0.07452844\n",
            "Iteration 308, loss = 0.07411411\n",
            "Iteration 309, loss = 0.07363554\n",
            "Iteration 310, loss = 0.07325505\n",
            "Iteration 311, loss = 0.07273484\n",
            "Iteration 312, loss = 0.07245536\n",
            "Iteration 313, loss = 0.07191471\n",
            "Iteration 314, loss = 0.07159363\n",
            "Iteration 315, loss = 0.07113925\n",
            "Iteration 316, loss = 0.07086158\n",
            "Iteration 317, loss = 0.07034835\n",
            "Iteration 318, loss = 0.07001883\n",
            "Iteration 319, loss = 0.06976202\n",
            "Iteration 320, loss = 0.06935892\n",
            "Iteration 321, loss = 0.06898076\n",
            "Iteration 322, loss = 0.06848623\n",
            "Iteration 323, loss = 0.06813830\n",
            "Iteration 324, loss = 0.06799024\n",
            "Iteration 325, loss = 0.06744664\n",
            "Iteration 326, loss = 0.06711930\n",
            "Iteration 327, loss = 0.06674280\n",
            "Iteration 328, loss = 0.06637248\n",
            "Iteration 329, loss = 0.06598745\n",
            "Iteration 330, loss = 0.06576664\n",
            "Iteration 331, loss = 0.06533317\n",
            "Iteration 332, loss = 0.06499459\n",
            "Iteration 333, loss = 0.06460384\n",
            "Iteration 334, loss = 0.06436221\n",
            "Iteration 335, loss = 0.06399808\n",
            "Iteration 336, loss = 0.06371779\n",
            "Iteration 337, loss = 0.06337826\n",
            "Iteration 338, loss = 0.06295703\n",
            "Iteration 339, loss = 0.06262469\n",
            "Iteration 340, loss = 0.06229998\n",
            "Iteration 341, loss = 0.06198842\n",
            "Iteration 342, loss = 0.06170155\n",
            "Iteration 343, loss = 0.06138193\n",
            "Iteration 344, loss = 0.06110605\n",
            "Iteration 345, loss = 0.06074451\n",
            "Iteration 346, loss = 0.06045240\n",
            "Iteration 347, loss = 0.06012172\n",
            "Iteration 348, loss = 0.05982675\n",
            "Iteration 349, loss = 0.05952240\n",
            "Iteration 350, loss = 0.05928662\n",
            "Iteration 351, loss = 0.05884768\n",
            "Iteration 352, loss = 0.05855208\n",
            "Iteration 353, loss = 0.05826173\n",
            "Iteration 354, loss = 0.05806159\n",
            "Iteration 355, loss = 0.05770502\n",
            "Iteration 356, loss = 0.05758407\n",
            "Iteration 357, loss = 0.05706964\n",
            "Iteration 358, loss = 0.05685705\n",
            "Iteration 359, loss = 0.05656466\n",
            "Iteration 360, loss = 0.05627153\n",
            "Iteration 361, loss = 0.05605409\n",
            "Iteration 362, loss = 0.05572769\n",
            "Iteration 363, loss = 0.05546513\n",
            "Iteration 364, loss = 0.05522878\n",
            "Iteration 365, loss = 0.05498738\n",
            "Iteration 366, loss = 0.05472466\n",
            "Iteration 367, loss = 0.05441148\n",
            "Iteration 368, loss = 0.05407659\n",
            "Iteration 369, loss = 0.05382324\n",
            "Iteration 370, loss = 0.05350458\n",
            "Iteration 371, loss = 0.05341372\n",
            "Iteration 372, loss = 0.05308229\n",
            "Iteration 373, loss = 0.05273833\n",
            "Iteration 374, loss = 0.05252664\n",
            "Iteration 375, loss = 0.05224434\n",
            "Iteration 376, loss = 0.05198868\n",
            "Iteration 377, loss = 0.05178799\n",
            "Iteration 378, loss = 0.05149666\n",
            "Iteration 379, loss = 0.05125880\n",
            "Iteration 380, loss = 0.05101141\n",
            "Iteration 381, loss = 0.05075660\n",
            "Iteration 382, loss = 0.05052185\n",
            "Iteration 383, loss = 0.05034260\n",
            "Iteration 384, loss = 0.05007932\n",
            "Iteration 385, loss = 0.04984410\n",
            "Iteration 386, loss = 0.04956792\n",
            "Iteration 387, loss = 0.04936143\n",
            "Iteration 388, loss = 0.04916861\n",
            "Iteration 389, loss = 0.04890313\n",
            "Iteration 390, loss = 0.04872557\n",
            "Iteration 391, loss = 0.04843115\n",
            "Iteration 392, loss = 0.04827515\n",
            "Iteration 393, loss = 0.04802678\n",
            "Iteration 394, loss = 0.04779200\n",
            "Iteration 395, loss = 0.04751798\n",
            "Iteration 396, loss = 0.04730266\n",
            "Iteration 397, loss = 0.04706943\n",
            "Iteration 398, loss = 0.04695421\n",
            "Iteration 399, loss = 0.04672515\n",
            "Iteration 400, loss = 0.04640646\n",
            "Iteration 401, loss = 0.04622485\n",
            "Iteration 402, loss = 0.04603201\n",
            "Iteration 403, loss = 0.04581471\n",
            "Iteration 404, loss = 0.04562366\n",
            "Iteration 405, loss = 0.04536097\n",
            "Iteration 406, loss = 0.04518867\n",
            "Iteration 407, loss = 0.04498645\n",
            "Iteration 408, loss = 0.04472952\n",
            "Iteration 409, loss = 0.04452613\n",
            "Iteration 410, loss = 0.04440072\n",
            "Iteration 411, loss = 0.04420420\n",
            "Iteration 412, loss = 0.04396263\n",
            "Iteration 413, loss = 0.04380152\n",
            "Iteration 414, loss = 0.04353152\n",
            "Iteration 415, loss = 0.04339495\n",
            "Iteration 416, loss = 0.04315032\n",
            "Iteration 417, loss = 0.04296729\n",
            "Iteration 418, loss = 0.04279169\n",
            "Iteration 419, loss = 0.04258120\n",
            "Iteration 420, loss = 0.04235307\n",
            "Iteration 421, loss = 0.04225180\n",
            "Iteration 422, loss = 0.04203656\n",
            "Iteration 423, loss = 0.04178474\n",
            "Iteration 424, loss = 0.04169073\n",
            "Iteration 425, loss = 0.04142315\n",
            "Iteration 426, loss = 0.04125488\n",
            "Iteration 427, loss = 0.04103625\n",
            "Iteration 428, loss = 0.04094554\n",
            "Iteration 429, loss = 0.04068464\n",
            "Iteration 430, loss = 0.04049127\n",
            "Iteration 431, loss = 0.04032018\n",
            "Iteration 432, loss = 0.04010848\n",
            "Iteration 433, loss = 0.04002172\n",
            "Iteration 434, loss = 0.03975833\n",
            "Iteration 435, loss = 0.03961892\n",
            "Iteration 436, loss = 0.03946757\n",
            "Iteration 437, loss = 0.03929482\n",
            "Iteration 438, loss = 0.03911532\n",
            "Iteration 439, loss = 0.03893831\n",
            "Iteration 440, loss = 0.03876469\n",
            "Iteration 441, loss = 0.03858320\n",
            "Iteration 442, loss = 0.03840476\n",
            "Iteration 443, loss = 0.03826170\n",
            "Iteration 444, loss = 0.03810827\n",
            "Iteration 445, loss = 0.03795223\n",
            "Iteration 446, loss = 0.03770945\n",
            "Iteration 447, loss = 0.03756276\n",
            "Iteration 448, loss = 0.03749114\n",
            "Iteration 449, loss = 0.03727830\n",
            "Iteration 450, loss = 0.03716995\n",
            "Iteration 451, loss = 0.03693600\n",
            "Iteration 452, loss = 0.03680460\n",
            "Iteration 453, loss = 0.03660457\n",
            "Iteration 454, loss = 0.03646048\n",
            "Iteration 455, loss = 0.03631822\n",
            "Iteration 456, loss = 0.03614880\n",
            "Iteration 457, loss = 0.03596764\n",
            "Iteration 458, loss = 0.03581281\n",
            "Iteration 459, loss = 0.03569509\n",
            "Iteration 460, loss = 0.03556651\n",
            "Iteration 461, loss = 0.03536495\n",
            "Iteration 462, loss = 0.03528307\n",
            "Iteration 463, loss = 0.03507464\n",
            "Iteration 464, loss = 0.03497409\n",
            "Iteration 465, loss = 0.03481925\n",
            "Iteration 466, loss = 0.03466944\n",
            "Iteration 467, loss = 0.03450020\n",
            "Iteration 468, loss = 0.03436479\n",
            "Iteration 469, loss = 0.03418989\n",
            "Iteration 470, loss = 0.03406073\n",
            "Iteration 471, loss = 0.03390612\n",
            "Iteration 472, loss = 0.03378726\n",
            "Iteration 473, loss = 0.03364259\n",
            "Iteration 474, loss = 0.03348670\n",
            "Iteration 475, loss = 0.03334792\n",
            "Iteration 476, loss = 0.03321767\n",
            "Iteration 477, loss = 0.03309406\n",
            "Iteration 478, loss = 0.03290484\n",
            "Iteration 479, loss = 0.03287967\n",
            "Iteration 480, loss = 0.03270083\n",
            "Iteration 481, loss = 0.03261039\n",
            "Iteration 482, loss = 0.03243969\n",
            "Iteration 483, loss = 0.03224664\n",
            "Iteration 484, loss = 0.03212161\n",
            "Iteration 485, loss = 0.03199490\n",
            "Iteration 486, loss = 0.03183954\n",
            "Iteration 487, loss = 0.03169556\n",
            "Iteration 488, loss = 0.03157764\n",
            "Iteration 489, loss = 0.03147366\n",
            "Iteration 490, loss = 0.03135532\n",
            "Iteration 491, loss = 0.03126998\n",
            "Iteration 492, loss = 0.03110573\n",
            "Iteration 493, loss = 0.03095729\n",
            "Iteration 494, loss = 0.03082382\n",
            "Iteration 495, loss = 0.03071173\n",
            "Iteration 496, loss = 0.03058299\n",
            "Iteration 497, loss = 0.03044622\n",
            "Iteration 498, loss = 0.03037543\n",
            "Iteration 499, loss = 0.03021177\n",
            "Iteration 500, loss = 0.03009976\n",
            "Iteration 501, loss = 0.02998186\n",
            "Iteration 502, loss = 0.02989888\n",
            "Iteration 503, loss = 0.02975872\n",
            "Iteration 504, loss = 0.02964774\n",
            "Iteration 505, loss = 0.02952577\n",
            "Iteration 506, loss = 0.02938724\n",
            "Iteration 507, loss = 0.02925799\n",
            "Iteration 508, loss = 0.02915708\n",
            "Iteration 509, loss = 0.02905526\n",
            "Iteration 510, loss = 0.02890971\n",
            "Iteration 511, loss = 0.02877757\n",
            "Iteration 512, loss = 0.02866988\n",
            "Iteration 513, loss = 0.02860402\n",
            "Iteration 514, loss = 0.02843765\n",
            "Iteration 515, loss = 0.02838659\n",
            "Iteration 516, loss = 0.02822725\n",
            "Iteration 517, loss = 0.02813749\n",
            "Iteration 518, loss = 0.02803938\n",
            "Iteration 519, loss = 0.02791038\n",
            "Iteration 520, loss = 0.02780079\n",
            "Iteration 521, loss = 0.02769465\n",
            "Iteration 522, loss = 0.02760400\n",
            "Iteration 523, loss = 0.02749757\n",
            "Iteration 524, loss = 0.02738769\n",
            "Iteration 525, loss = 0.02725819\n",
            "Iteration 526, loss = 0.02713210\n",
            "Iteration 527, loss = 0.02708778\n",
            "Iteration 528, loss = 0.02693043\n",
            "Iteration 529, loss = 0.02689299\n",
            "Iteration 530, loss = 0.02679510\n",
            "Iteration 531, loss = 0.02663053\n",
            "Iteration 532, loss = 0.02657320\n",
            "Iteration 533, loss = 0.02644066\n",
            "Iteration 534, loss = 0.02635476\n",
            "Iteration 535, loss = 0.02625312\n",
            "Iteration 536, loss = 0.02612053\n",
            "Iteration 537, loss = 0.02602898\n",
            "Iteration 538, loss = 0.02597854\n",
            "Iteration 539, loss = 0.02584413\n",
            "Iteration 540, loss = 0.02576275\n",
            "Iteration 541, loss = 0.02564272\n",
            "Iteration 542, loss = 0.02556750\n",
            "Iteration 543, loss = 0.02543021\n",
            "Iteration 544, loss = 0.02538635\n",
            "Iteration 545, loss = 0.02525550\n",
            "Iteration 546, loss = 0.02517561\n",
            "Iteration 547, loss = 0.02509562\n",
            "Iteration 548, loss = 0.02497783\n",
            "Iteration 549, loss = 0.02489741\n",
            "Iteration 550, loss = 0.02481489\n",
            "Iteration 551, loss = 0.02469248\n",
            "Iteration 552, loss = 0.02459132\n",
            "Iteration 553, loss = 0.02452768\n",
            "Iteration 554, loss = 0.02441205\n",
            "Iteration 555, loss = 0.02433835\n",
            "Iteration 556, loss = 0.02423383\n",
            "Iteration 557, loss = 0.02415569\n",
            "Iteration 558, loss = 0.02405612\n",
            "Iteration 559, loss = 0.02398498\n",
            "Iteration 560, loss = 0.02390683\n",
            "Iteration 561, loss = 0.02380847\n",
            "Iteration 562, loss = 0.02373286\n",
            "Iteration 563, loss = 0.02364002\n",
            "Iteration 564, loss = 0.02359439\n",
            "Iteration 565, loss = 0.02346417\n",
            "Iteration 566, loss = 0.02339181\n",
            "Iteration 567, loss = 0.02328848\n",
            "Iteration 568, loss = 0.02322399\n",
            "Iteration 569, loss = 0.02313166\n",
            "Iteration 570, loss = 0.02308042\n",
            "Iteration 571, loss = 0.02295145\n",
            "Iteration 572, loss = 0.02289330\n",
            "Iteration 573, loss = 0.02282078\n",
            "Iteration 574, loss = 0.02270949\n",
            "Iteration 575, loss = 0.02261233\n",
            "Iteration 576, loss = 0.02251295\n",
            "Iteration 577, loss = 0.02247002\n",
            "Iteration 578, loss = 0.02238106\n",
            "Iteration 579, loss = 0.02229406\n",
            "Iteration 580, loss = 0.02221360\n",
            "Iteration 581, loss = 0.02214556\n",
            "Iteration 582, loss = 0.02205193\n",
            "Iteration 583, loss = 0.02197840\n",
            "Iteration 584, loss = 0.02188905\n",
            "Iteration 585, loss = 0.02184354\n",
            "Training loss did not improve more than tol=0.000100 for 10 consecutive epochs. Stopping.\n"
          ],
          "name": "stdout"
        },
        {
          "output_type": "execute_result",
          "data": {
            "text/plain": [
              "MLPClassifier(activation='logistic', alpha=0.0001, batch_size='auto',\n",
              "              beta_1=0.9, beta_2=0.999, early_stopping=False, epsilon=1e-08,\n",
              "              hidden_layer_sizes=15, learning_rate='constant',\n",
              "              learning_rate_init=0.001, max_fun=15000, max_iter=1000,\n",
              "              momentum=0.9, n_iter_no_change=10, nesterovs_momentum=True,\n",
              "              power_t=0.5, random_state=None, shuffle=True, solver='adam',\n",
              "              tol=0.0001, validation_fraction=0.1, verbose=True,\n",
              "              warm_start=False)"
            ]
          },
          "metadata": {
            "tags": []
          },
          "execution_count": 110
        }
      ]
    },
    {
      "cell_type": "code",
      "metadata": {
        "id": "ffb3P4QIlf17"
      },
      "source": [
        "test_image = X_test[0]"
      ],
      "execution_count": 104,
      "outputs": []
    },
    {
      "cell_type": "code",
      "metadata": {
        "colab": {
          "base_uri": "https://localhost:8080/"
        },
        "id": "SfxmR8jgmIxB",
        "outputId": "367424da-dc8f-400a-ad09-f24aaec7c517"
      },
      "source": [
        "mlp.predict([test_image])"
      ],
      "execution_count": 105,
      "outputs": [
        {
          "output_type": "execute_result",
          "data": {
            "text/plain": [
              "array([7])"
            ]
          },
          "metadata": {
            "tags": []
          },
          "execution_count": 105
        }
      ]
    },
    {
      "cell_type": "code",
      "metadata": {
        "colab": {
          "base_uri": "https://localhost:8080/"
        },
        "id": "5rwM1e-EmaHh",
        "outputId": "5b6049bf-b422-49e8-a8bc-84377f47078e"
      },
      "source": [
        "y_test[0]"
      ],
      "execution_count": 106,
      "outputs": [
        {
          "output_type": "execute_result",
          "data": {
            "text/plain": [
              "7"
            ]
          },
          "metadata": {
            "tags": []
          },
          "execution_count": 106
        }
      ]
    },
    {
      "cell_type": "code",
      "metadata": {
        "id": "kIF5qLkanf4W"
      },
      "source": [
        "prediction = mlp.predict(X_test)"
      ],
      "execution_count": 107,
      "outputs": []
    },
    {
      "cell_type": "code",
      "metadata": {
        "colab": {
          "base_uri": "https://localhost:8080/"
        },
        "id": "wEPhsCvNnB3I",
        "outputId": "195da665-0a36-40b9-e9a9-81f6b2c5eca6"
      },
      "source": [
        "y_test[:50]"
      ],
      "execution_count": 108,
      "outputs": [
        {
          "output_type": "execute_result",
          "data": {
            "text/plain": [
              "array([7, 7, 3, 5, 1, 0, 0, 2, 2, 7, 8, 2, 0, 1, 2, 6, 3, 3, 7, 3, 3, 4,\n",
              "       6, 6, 6, 4, 9, 1, 5, 0, 9, 5, 2, 8, 2, 0, 0, 1, 7, 6, 3, 2, 1, 7,\n",
              "       4, 6, 3, 1, 3, 9])"
            ]
          },
          "metadata": {
            "tags": []
          },
          "execution_count": 108
        }
      ]
    },
    {
      "cell_type": "code",
      "metadata": {
        "colab": {
          "base_uri": "https://localhost:8080/"
        },
        "id": "nh2457w7nNjD",
        "outputId": "e04ab7da-4ffd-4da8-b436-02cf3cabf37a"
      },
      "source": [
        "from sklearn.metrics import accuracy_score\n",
        "accuracy_score(y_test,prediction)"
      ],
      "execution_count": 111,
      "outputs": [
        {
          "output_type": "execute_result",
          "data": {
            "text/plain": [
              "0.916247906197655"
            ]
          },
          "metadata": {
            "tags": []
          },
          "execution_count": 111
        }
      ]
    },
    {
      "cell_type": "code",
      "metadata": {
        "id": "syOBQJS6n1xi"
      },
      "source": [
        ""
      ],
      "execution_count": null,
      "outputs": []
    }
  ]
}