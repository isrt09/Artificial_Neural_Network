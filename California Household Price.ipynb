{
  "nbformat": 4,
  "nbformat_minor": 0,
  "metadata": {
    "colab": {
      "name": "California Household.ipynb",
      "provenance": []
    },
    "kernelspec": {
      "name": "python3",
      "display_name": "Python 3"
    },
    "language_info": {
      "name": "python"
    }
  },
  "cells": [
    {
      "cell_type": "markdown",
      "metadata": {
        "id": "1ziC-PeYHo22"
      },
      "source": [
        "# **California Housing Prices**\n",
        "## **Median house prices for California districts derived from the 1990 census.**"
      ]
    },
    {
      "cell_type": "markdown",
      "metadata": {
        "id": "ffu-m-vnGZuE"
      },
      "source": [
        "**Number of Instances:**\n",
        "20640\n",
        "\n",
        "**Number of Attributes:**\n",
        "8 numeric, predictive attributes and the target\n",
        "\n",
        "**Attribute Information:**\n",
        "\n",
        "**MedInc** median income in block\n",
        "\n",
        "**HouseAge** median house age in block\n",
        "\n",
        "**AveRooms** average number of rooms\n",
        "\n",
        "**AveBedrms** average number of bedrooms\n",
        "\n",
        "**Population** block population\n",
        "\n",
        "**AveOccup** average house occupancy\n",
        "\n",
        "**Latitude** house block latitude\n",
        "\n",
        "**Longitude** house block longitude\n",
        "\n",
        "**Target**\n",
        "\n",
        "The target variable is the **median house** value in units of 100,000 for California districts.\n",
        "\n",
        "**DataSource**: https://www.kaggle.com/camnugent/california-housing-prices"
      ]
    },
    {
      "cell_type": "code",
      "metadata": {
        "id": "mvhx-tk9Hmct"
      },
      "source": [
        "import numpy   as np\n",
        "import pandas  as pd\n",
        "import seaborn as sns\n",
        "import matplotlib.pyplot as plt"
      ],
      "execution_count": 1,
      "outputs": []
    },
    {
      "cell_type": "code",
      "metadata": {
        "id": "_7d-Bf_rGRdW"
      },
      "source": [
        "import tensorflow as tf\n",
        "from tensorflow import keras "
      ],
      "execution_count": 2,
      "outputs": []
    },
    {
      "cell_type": "code",
      "metadata": {
        "id": "5Mav4LFTIFIn"
      },
      "source": [
        "from sklearn.datasets import fetch_california_housing\n",
        "df = fetch_california_housing()"
      ],
      "execution_count": 5,
      "outputs": []
    },
    {
      "cell_type": "code",
      "metadata": {
        "colab": {
          "base_uri": "https://localhost:8080/"
        },
        "id": "ga4B1x6BIaH2",
        "outputId": "2a3ee608-9ea6-4314-c9ed-69d58c0a2ca2"
      },
      "source": [
        "print(df.feature_names)"
      ],
      "execution_count": 8,
      "outputs": [
        {
          "output_type": "stream",
          "text": [
            "['MedInc', 'HouseAge', 'AveRooms', 'AveBedrms', 'Population', 'AveOccup', 'Latitude', 'Longitude']\n"
          ],
          "name": "stdout"
        }
      ]
    },
    {
      "cell_type": "code",
      "metadata": {
        "id": "RJKuQtQgId1J"
      },
      "source": [
        "from sklearn.model_selection import train_test_split\n",
        "X_train, X_test, y_train, y_test = train_test_split(df.data,df.target, random_state=50)\n",
        "X_train, X_valid, y_train, y_valid = train_test_split(X_train,y_train, random_state=50)"
      ],
      "execution_count": 10,
      "outputs": []
    },
    {
      "cell_type": "code",
      "metadata": {
        "id": "YYfBvrovJkAS"
      },
      "source": [
        "from sklearn.preprocessing import StandardScaler\n",
        "scaler  = StandardScaler()\n",
        "X_train = scaler.fit_transform(X_train)\n",
        "X_valid = scaler.fit_transform(X_valid)\n",
        "X_test  = scaler.fit_transform(X_test)"
      ],
      "execution_count": 12,
      "outputs": []
    },
    {
      "cell_type": "code",
      "metadata": {
        "id": "7kfDP2-qKOp8"
      },
      "source": [
        "np.random.seed(50)\n",
        "tf.random.set_seed(50)"
      ],
      "execution_count": 13,
      "outputs": []
    },
    {
      "cell_type": "code",
      "metadata": {
        "colab": {
          "base_uri": "https://localhost:8080/"
        },
        "id": "ovu3KP_DKcGC",
        "outputId": "c579575e-345c-41db-ef95-4c641f3bf1b9"
      },
      "source": [
        "X_train.shape"
      ],
      "execution_count": 18,
      "outputs": [
        {
          "output_type": "execute_result",
          "data": {
            "text/plain": [
              "(11610, 8)"
            ]
          },
          "metadata": {
            "tags": []
          },
          "execution_count": 18
        }
      ]
    },
    {
      "cell_type": "code",
      "metadata": {
        "id": "TryPaNLHKd-s"
      },
      "source": [
        "model = keras.models.Sequential([\n",
        "\tkeras.layers.Dense(20, activation='relu', input_shape=[8]),\n",
        "\tkeras.layers.Dense(20, activation='relu'),\n",
        "  keras.layers.Dense(1)\n",
        "])"
      ],
      "execution_count": 22,
      "outputs": []
    },
    {
      "cell_type": "code",
      "metadata": {
        "colab": {
          "base_uri": "https://localhost:8080/"
        },
        "id": "hlAAPwPDM8ou",
        "outputId": "10b4021b-e2d0-4e02-adec-f8a42ed6e049"
      },
      "source": [
        "model.summary()"
      ],
      "execution_count": 28,
      "outputs": [
        {
          "output_type": "stream",
          "text": [
            "Model: \"sequential\"\n",
            "_________________________________________________________________\n",
            "Layer (type)                 Output Shape              Param #   \n",
            "=================================================================\n",
            "dense_6 (Dense)              (None, 20)                180       \n",
            "_________________________________________________________________\n",
            "dense_7 (Dense)              (None, 20)                420       \n",
            "_________________________________________________________________\n",
            "dense_8 (Dense)              (None, 1)                 21        \n",
            "=================================================================\n",
            "Total params: 621\n",
            "Trainable params: 621\n",
            "Non-trainable params: 0\n",
            "_________________________________________________________________\n"
          ],
          "name": "stdout"
        }
      ]
    },
    {
      "cell_type": "code",
      "metadata": {
        "id": "UhG0O0qbLuXE"
      },
      "source": [
        "model.compile(optimizer='sgd', metrics=['mae'], loss='mean_squared_error')"
      ],
      "execution_count": 23,
      "outputs": []
    },
    {
      "cell_type": "code",
      "metadata": {
        "colab": {
          "base_uri": "https://localhost:8080/"
        },
        "id": "ArHor13mMWby",
        "outputId": "b57275ae-c946-4c09-d85d-73edad2333d8"
      },
      "source": [
        "model_history = model.fit(X_train, y_train, epochs= 20, validation_data=(X_valid,y_valid))"
      ],
      "execution_count": 25,
      "outputs": [
        {
          "output_type": "stream",
          "text": [
            "Epoch 1/20\n",
            "363/363 [==============================] - 1s 2ms/step - loss: 0.3152 - mae: 0.3953 - val_loss: 0.4184 - val_mae: 0.4511\n",
            "Epoch 2/20\n",
            "363/363 [==============================] - 1s 2ms/step - loss: 0.3154 - mae: 0.3958 - val_loss: 0.4415 - val_mae: 0.4506\n",
            "Epoch 3/20\n",
            "363/363 [==============================] - 1s 2ms/step - loss: 0.3186 - mae: 0.3966 - val_loss: 0.4472 - val_mae: 0.4538\n",
            "Epoch 4/20\n",
            "363/363 [==============================] - 1s 2ms/step - loss: 0.3141 - mae: 0.3952 - val_loss: 0.4310 - val_mae: 0.4474\n",
            "Epoch 5/20\n",
            "363/363 [==============================] - 1s 2ms/step - loss: 0.3106 - mae: 0.3919 - val_loss: 0.4313 - val_mae: 0.4527\n",
            "Epoch 6/20\n",
            "363/363 [==============================] - 1s 2ms/step - loss: 0.3069 - mae: 0.3904 - val_loss: 0.4480 - val_mae: 0.4498\n",
            "Epoch 7/20\n",
            "363/363 [==============================] - 1s 2ms/step - loss: 0.3069 - mae: 0.3892 - val_loss: 0.4207 - val_mae: 0.4455\n",
            "Epoch 8/20\n",
            "363/363 [==============================] - 1s 2ms/step - loss: 0.3074 - mae: 0.3900 - val_loss: 0.4469 - val_mae: 0.4519\n",
            "Epoch 9/20\n",
            "363/363 [==============================] - 1s 2ms/step - loss: 0.3098 - mae: 0.3901 - val_loss: 0.4187 - val_mae: 0.4466\n",
            "Epoch 10/20\n",
            "363/363 [==============================] - 1s 2ms/step - loss: 0.3066 - mae: 0.3894 - val_loss: 0.4299 - val_mae: 0.4429\n",
            "Epoch 11/20\n",
            "363/363 [==============================] - 1s 2ms/step - loss: 0.3049 - mae: 0.3868 - val_loss: 0.4455 - val_mae: 0.4498\n",
            "Epoch 12/20\n",
            "363/363 [==============================] - 1s 2ms/step - loss: 0.3022 - mae: 0.3864 - val_loss: 0.4265 - val_mae: 0.4498\n",
            "Epoch 13/20\n",
            "363/363 [==============================] - 1s 2ms/step - loss: 0.2997 - mae: 0.3852 - val_loss: 0.4222 - val_mae: 0.4452\n",
            "Epoch 14/20\n",
            "363/363 [==============================] - 1s 2ms/step - loss: 0.2994 - mae: 0.3845 - val_loss: 0.4294 - val_mae: 0.4422\n",
            "Epoch 15/20\n",
            "363/363 [==============================] - 1s 2ms/step - loss: 0.2977 - mae: 0.3830 - val_loss: 0.4227 - val_mae: 0.4516\n",
            "Epoch 16/20\n",
            "363/363 [==============================] - 1s 2ms/step - loss: 0.2972 - mae: 0.3831 - val_loss: 0.4571 - val_mae: 0.4527\n",
            "Epoch 17/20\n",
            "363/363 [==============================] - 1s 2ms/step - loss: 0.2956 - mae: 0.3815 - val_loss: 0.4278 - val_mae: 0.4403\n",
            "Epoch 18/20\n",
            "363/363 [==============================] - 1s 2ms/step - loss: 0.2953 - mae: 0.3802 - val_loss: 0.4080 - val_mae: 0.4427\n",
            "Epoch 19/20\n",
            "363/363 [==============================] - 1s 2ms/step - loss: 0.2935 - mae: 0.3804 - val_loss: 0.4212 - val_mae: 0.4409\n",
            "Epoch 20/20\n",
            "363/363 [==============================] - 1s 2ms/step - loss: 0.2932 - mae: 0.3794 - val_loss: 0.4183 - val_mae: 0.4436\n"
          ],
          "name": "stdout"
        }
      ]
    },
    {
      "cell_type": "code",
      "metadata": {
        "colab": {
          "base_uri": "https://localhost:8080/"
        },
        "id": "L88DJztWMj4u",
        "outputId": "da2a2dc7-693d-4c60-a3d1-2347c99380f4"
      },
      "source": [
        "model_test = model.evaluate(X_test, y_test)"
      ],
      "execution_count": 26,
      "outputs": [
        {
          "output_type": "stream",
          "text": [
            "162/162 [==============================] - 0s 1ms/step - loss: 0.3843 - mae: 0.4287\n"
          ],
          "name": "stdout"
        }
      ]
    },
    {
      "cell_type": "code",
      "metadata": {
        "colab": {
          "base_uri": "https://localhost:8080/"
        },
        "id": "qBIALxZEMx8F",
        "outputId": "d32bf46b-b705-4f2c-d3ac-b8e2d3f7f0f6"
      },
      "source": [
        "model_history.history"
      ],
      "execution_count": 27,
      "outputs": [
        {
          "output_type": "execute_result",
          "data": {
            "text/plain": [
              "{'loss': [0.31521281599998474,\n",
              "  0.3153899908065796,\n",
              "  0.3186446726322174,\n",
              "  0.31407099962234497,\n",
              "  0.3106101155281067,\n",
              "  0.3068512976169586,\n",
              "  0.3068977892398834,\n",
              "  0.3073701858520508,\n",
              "  0.30978983640670776,\n",
              "  0.30663371086120605,\n",
              "  0.3049464523792267,\n",
              "  0.30223095417022705,\n",
              "  0.29965880513191223,\n",
              "  0.2993777096271515,\n",
              "  0.2977375388145447,\n",
              "  0.2971920967102051,\n",
              "  0.29556238651275635,\n",
              "  0.2953401803970337,\n",
              "  0.29349324107170105,\n",
              "  0.2931857705116272],\n",
              " 'mae': [0.395347535610199,\n",
              "  0.39575889706611633,\n",
              "  0.3966210186481476,\n",
              "  0.3951861560344696,\n",
              "  0.3919057548046112,\n",
              "  0.39042988419532776,\n",
              "  0.3892085552215576,\n",
              "  0.38995394110679626,\n",
              "  0.3900908827781677,\n",
              "  0.38942497968673706,\n",
              "  0.3868248462677002,\n",
              "  0.38641855120658875,\n",
              "  0.3851747214794159,\n",
              "  0.3844737112522125,\n",
              "  0.3829791843891144,\n",
              "  0.38311681151390076,\n",
              "  0.3814605474472046,\n",
              "  0.3801974058151245,\n",
              "  0.380367636680603,\n",
              "  0.3793875575065613],\n",
              " 'val_loss': [0.4184201955795288,\n",
              "  0.4415075480937958,\n",
              "  0.44722679257392883,\n",
              "  0.43104106187820435,\n",
              "  0.4312807321548462,\n",
              "  0.44796326756477356,\n",
              "  0.420692503452301,\n",
              "  0.44693243503570557,\n",
              "  0.4186689853668213,\n",
              "  0.42986688017845154,\n",
              "  0.4454895257949829,\n",
              "  0.42648419737815857,\n",
              "  0.4222494661808014,\n",
              "  0.4293968975543976,\n",
              "  0.42273491621017456,\n",
              "  0.45712536573410034,\n",
              "  0.4277808666229248,\n",
              "  0.40796804428100586,\n",
              "  0.42117705941200256,\n",
              "  0.41832882165908813],\n",
              " 'val_mae': [0.4510892331600189,\n",
              "  0.4506441354751587,\n",
              "  0.4537961483001709,\n",
              "  0.4474397897720337,\n",
              "  0.4526890516281128,\n",
              "  0.44983863830566406,\n",
              "  0.44554468989372253,\n",
              "  0.45185375213623047,\n",
              "  0.4465886652469635,\n",
              "  0.4428523778915405,\n",
              "  0.4497676193714142,\n",
              "  0.4498036205768585,\n",
              "  0.4452117383480072,\n",
              "  0.4421541690826416,\n",
              "  0.4515668451786041,\n",
              "  0.45270800590515137,\n",
              "  0.4402773976325989,\n",
              "  0.4427478015422821,\n",
              "  0.44090986251831055,\n",
              "  0.44357359409332275]}"
            ]
          },
          "metadata": {
            "tags": []
          },
          "execution_count": 27
        }
      ]
    },
    {
      "cell_type": "code",
      "metadata": {
        "colab": {
          "base_uri": "https://localhost:8080/",
          "height": 324
        },
        "id": "Hh60JRpGM2lG",
        "outputId": "5090c634-2b8d-4f1c-c670-55d70c615ddc"
      },
      "source": [
        "pd.DataFrame(model_history.history).plot(figsize=(8,5))\n",
        "plt.grid(True)\n",
        "plt.gca().set_ylim(0,1)\n",
        "plt.show()"
      ],
      "execution_count": 30,
      "outputs": [
        {
          "output_type": "display_data",
          "data": {
            "image/png": "[encoded data removed]",
            "text/plain": [
              "<Figure size 576x360 with 1 Axes>"
            ]
          },
          "metadata": {
            "tags": [],
            "needs_background": "light"
          }
        }
      ]
    },
    {
      "cell_type": "code",
      "metadata": {
        "id": "pvnxjupHNTW8"
      },
      "source": [
        "X_new = X_test[:3]"
      ],
      "execution_count": 31,
      "outputs": []
    },
    {
      "cell_type": "code",
      "metadata": {
        "colab": {
          "base_uri": "https://localhost:8080/"
        },
        "id": "oiIk47ceNooX",
        "outputId": "327573c8-8863-46ee-85a8-f6523966ae7a"
      },
      "source": [
        "y_pred = model.predict(X_new)\n",
        "print(y_pred)"
      ],
      "execution_count": 32,
      "outputs": [
        {
          "output_type": "stream",
          "text": [
            "[[1.698199 ]\n",
            " [3.0037627]\n",
            " [1.9118979]]\n"
          ],
          "name": "stdout"
        }
      ]
    },
    {
      "cell_type": "code",
      "metadata": {
        "id": "VZLJ2CTQNuV1"
      },
      "source": [
        ""
      ],
      "execution_count": null,
      "outputs": []
    }
  ]
}